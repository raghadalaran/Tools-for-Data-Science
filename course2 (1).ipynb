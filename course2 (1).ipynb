{
 "cells": [
  {
   "cell_type": "markdown",
   "id": "00846828",
   "metadata": {},
   "source": [
    "# title Tools for Data Science\n"
   ]
  },
  {
   "cell_type": "markdown",
   "id": "2711f16a",
   "metadata": {},
   "source": [
    "## introduction\n",
    "this is the final project of course tools to data science "
   ]
  },
  {
   "cell_type": "markdown",
   "id": "afb8517a",
   "metadata": {},
   "source": [
    "### data science languages\n",
    "1. python \n",
    "2. R\n",
    "3. sql \n"
   ]
  },
  {
   "cell_type": "markdown",
   "id": "7e9dd0fe",
   "metadata": {},
   "source": [
    "###  list data science libraries\n",
    "1.  pandas\n",
    "2.  NumPy\n",
    "3. Mathplotlib\n",
    "4.  seaorn\n",
    "5.  scikit-learn \n",
    "5. keras\n"
   ]
  },
  {
   "cell_type": "markdown",
   "id": "ac970be9",
   "metadata": {},
   "source": [
    "## table of Data Science tools\n",
    "|Data science categories  |tools      |\n",
    "|:-----------------------:|:---------:|\n",
    "|Data management          |ceph ,mysql couchBD|\n",
    "|Data integration and transformation|airflow, kubeflow ,spark |\n",
    "|Data visualization|ue ,kibana, superset|\n",
    "|Model monitoring and assessment|ModelBD prometheus|\n",
    "|Data deployment|mleep,predictionIO,seldon|\n",
    "|Code asset management|Git ,GitHub, bitbucjet|\n",
    "|data asser management tools|apache, kylo|"
   ]
  },
  {
   "cell_type": "markdown",
   "id": "b0945ecb",
   "metadata": {},
   "source": [
    "## arithmetic expression examples\n",
    "* a * b Multiplication\n",
    "* a – b Addition\n",
    "* a + b Addition\n",
    "* b / a Division\n",
    "* b % a Modulus\n",
    "* a**b  Exponent"
   ]
  },
  {
   "cell_type": "code",
   "execution_count": 2,
   "id": "d2812bae",
   "metadata": {},
   "outputs": [
    {
     "name": "stdout",
     "output_type": "stream",
     "text": [
      "multiply 12\n",
      "addtion 15\n"
     ]
    }
   ],
   "source": [
    "# multiply and add numbers\n",
    "b=3*4\n",
    "c=3+4\n",
    "print(\"multiply\",b)\n",
    "print(\"addtion\",c)\n"
   ]
  },
  {
   "cell_type": "code",
   "execution_count": 5,
   "id": "2b02a081",
   "metadata": {},
   "outputs": [
    {
     "name": "stdout",
     "output_type": "stream",
     "text": [
      "time in hours  1.5\n"
     ]
    }
   ],
   "source": [
    "mint=90\n",
    "hours=mint/60\n",
    "print(\"time in hours \",hours)"
   ]
  },
  {
   "cell_type": "markdown",
   "id": "e32adbba",
   "metadata": {},
   "source": [
    "## list Objectives\n",
    "* learn about the different types and categories of tools that data scientists use and popular examples of each.\n",
    "*  become familiar with Open Source, Cloud-based, and Commercial options for data science tools"
   ]
  },
  {
   "cell_type": "markdown",
   "id": "3a476687",
   "metadata": {},
   "source": [
    "Author’s name: Raghad alorwan"
   ]
  },
  {
   "cell_type": "code",
   "execution_count": null,
   "id": "b13f792b",
   "metadata": {},
   "outputs": [],
   "source": []
  }
 ],
 "metadata": {
  "kernelspec": {
   "display_name": "Python 3 (ipykernel)",
   "language": "python",
   "name": "python3"
  },
  "language_info": {
   "codemirror_mode": {
    "name": "ipython",
    "version": 3
   },
   "file_extension": ".py",
   "mimetype": "text/x-python",
   "name": "python",
   "nbconvert_exporter": "python",
   "pygments_lexer": "ipython3",
   "version": "3.9.13"
  }
 },
 "nbformat": 4,
 "nbformat_minor": 5
}
